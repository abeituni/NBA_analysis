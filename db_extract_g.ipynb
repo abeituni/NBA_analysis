{
 "cells": [
  {
   "cell_type": "code",
   "execution_count": 1,
   "id": "d7a191ee-526f-4a63-a540-68b2bfd98f46",
   "metadata": {},
   "outputs": [
    {
     "ename": "ModuleNotFoundError",
     "evalue": "No module named 'psycopg2'",
     "output_type": "error",
     "traceback": [
      "\u001b[0;31m---------------------------------------------------------------------------\u001b[0m",
      "\u001b[0;31mModuleNotFoundError\u001b[0m                       Traceback (most recent call last)",
      "\u001b[0;32m/var/folders/5v/rb39v1b169d2n5b_qrzdkyy40000gn/T/ipykernel_32756/2093467607.py\u001b[0m in \u001b[0;36m<module>\u001b[0;34m\u001b[0m\n\u001b[1;32m     10\u001b[0m \u001b[0;31m# SQL Libraries\u001b[0m\u001b[0;34m\u001b[0m\u001b[0;34m\u001b[0m\u001b[0;34m\u001b[0m\u001b[0m\n\u001b[1;32m     11\u001b[0m \u001b[0;32mfrom\u001b[0m \u001b[0msqlalchemy\u001b[0m \u001b[0;32mimport\u001b[0m \u001b[0mcreate_engine\u001b[0m\u001b[0;34m\u001b[0m\u001b[0;34m\u001b[0m\u001b[0m\n\u001b[0;32m---> 12\u001b[0;31m \u001b[0;32mimport\u001b[0m \u001b[0mpsycopg2\u001b[0m\u001b[0;34m\u001b[0m\u001b[0;34m\u001b[0m\u001b[0m\n\u001b[0m\u001b[1;32m     13\u001b[0m \u001b[0;32mfrom\u001b[0m \u001b[0msqlalchemy\u001b[0m\u001b[0;34m.\u001b[0m\u001b[0mext\u001b[0m\u001b[0;34m.\u001b[0m\u001b[0mautomap\u001b[0m \u001b[0;32mimport\u001b[0m \u001b[0mautomap_base\u001b[0m\u001b[0;34m\u001b[0m\u001b[0;34m\u001b[0m\u001b[0m\n\u001b[1;32m     14\u001b[0m \u001b[0;32mfrom\u001b[0m \u001b[0msqlalchemy\u001b[0m\u001b[0;34m.\u001b[0m\u001b[0morm\u001b[0m \u001b[0;32mimport\u001b[0m \u001b[0mSession\u001b[0m\u001b[0;34m\u001b[0m\u001b[0;34m\u001b[0m\u001b[0m\n",
      "\u001b[0;31mModuleNotFoundError\u001b[0m: No module named 'psycopg2'"
     ]
    }
   ],
   "source": [
    "# -------------------------------\n",
    "#Importing Dependencies\n",
    "# -------------------------------\n",
    "import csv\n",
    "import os\n",
    "# Organisation Libraries \n",
    "import pandas as pd\n",
    "import numpy as np\n",
    "\n",
    "# SQL Libraries\n",
    "from sqlalchemy import create_engine\n",
    "import psycopg2\n",
    "from sqlalchemy.ext.automap import automap_base\n",
    "from sqlalchemy.orm import Session\n",
    "from sqlalchemy import create_engine, func\n",
    "\n",
    "import time\n",
    "from getpass import getpass\n",
    "\n",
    "# ML Libraryies\n",
    "from sklearn.preprocessing import StandardScaler\n",
    "from sklearn.decomposition import PCA\n",
    "from sklearn.cluster import KMeans\n",
    "import hvplot.pandas\n",
    "import plotly.express as px"
   ]
  },
  {
   "cell_type": "code",
   "execution_count": null,
   "id": "ac8bc209-7efc-448d-9128-dba9d0da1c38",
   "metadata": {},
   "outputs": [],
   "source": [
    "# Using psycopg2 to pull from the NBA_Analysis DB\n",
    "password = getpass()\n",
    "cn = psycopg2.connect(host = \"127.0.0.1\", port = \"5432\", database = \"NBA_Analysis\", user = \"postgres\", password = password)\n",
    "cur = cn.cursor()\n",
    "cur.execute(\"Select * FROM nba_data\")\n",
    "query_results1 = cur.fetchall()\n",
    "\n",
    "cur.execute(\"Select * FROM players\")\n",
    "query_results2 = cur.fetchall()\n"
   ]
  },
  {
   "cell_type": "code",
   "execution_count": null,
   "id": "5c334d9b-b032-4433-b6ba-447471b4b469",
   "metadata": {},
   "outputs": [],
   "source": [
    "cur.execute(\"Select * FROM nba_data LIMIT 0\")\n",
    "colnames1 = [desc[0] for desc in cur.description]\n",
    "cur.execute(\"Select * FROM players LIMIT 0\")\n",
    "colnames2 = [desc[0] for desc in cur.description]"
   ]
  },
  {
   "cell_type": "code",
   "execution_count": null,
   "id": "f7fbf052-d8d0-4fb1-a6f4-caaf28204c3e",
   "metadata": {},
   "outputs": [],
   "source": [
    "sum_df = pd.DataFrame(query_results1)\n",
    "sum_df.columns = colnames1\n",
    "sum_df.head()\n",
    "\n",
    "\n",
    "player_df = pd.DataFrame(query_results2)\n",
    "player_df.columns = colnames2\n",
    "player_df.shape"
   ]
  },
  {
   "cell_type": "code",
   "execution_count": null,
   "id": "4eec58cb-7898-47af-977f-1e23ef5ad7b5",
   "metadata": {},
   "outputs": [],
   "source": [
    "inertia = []\n",
    "k = list(range(1, 11))\n",
    "for i in k:\n",
    "    km = KMeans(n_clusters=i, random_state=0)\n",
    "    km.fit(sum_df)\n",
    "    inertia.append(km.inertia_)\n",
    "\n",
    "elbow_data = {\"k\": k, \"inertia\": inertia}\n",
    "df_elbow = pd.DataFrame(elbow_data)\n",
    "df_elbow.hvplot.line(x=\"k\", y=\"inertia\", title=\"Elbow Curve\", xticks=k)"
   ]
  },
  {
   "cell_type": "code",
   "execution_count": null,
   "id": "fdf7d6ba-a047-4295-bb99-e8771160301b",
   "metadata": {},
   "outputs": [],
   "source": []
  }
 ],
 "metadata": {
  "kernelspec": {
   "display_name": "mlenv",
   "language": "python",
   "name": "mlenv"
  },
  "language_info": {
   "codemirror_mode": {
    "name": "ipython",
    "version": 3
   },
   "file_extension": ".py",
   "mimetype": "text/x-python",
   "name": "python",
   "nbconvert_exporter": "python",
   "pygments_lexer": "ipython3",
   "version": "3.7.11"
  }
 },
 "nbformat": 4,
 "nbformat_minor": 5
}
