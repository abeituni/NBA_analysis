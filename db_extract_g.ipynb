{
 "cells": [
  {
   "cell_type": "code",
   "execution_count": 7,
   "id": "d7a191ee-526f-4a63-a540-68b2bfd98f46",
   "metadata": {},
   "outputs": [],
   "source": [
    "# -------------------------------\n",
    "#Importing Dependencies\n",
    "# -------------------------------\n",
    "import csv\n",
    "import os\n",
    "# Organisation Libraries --------\n",
    "import pandas as pd\n",
    "import numpy as np\n",
    "\n",
    "# SQL Libraries\n",
    "from sqlalchemy import create_engine\n",
    "import psycopg2\n",
    "from sqlalchemy.ext.automap import automap_base\n",
    "from sqlalchemy.orm import Session\n",
    "from sqlalchemy import create_engine, func\n",
    "\n",
    "import time\n",
    "from getpass import getpass\n"
   ]
  },
  {
   "cell_type": "code",
   "execution_count": 9,
   "id": "ac8bc209-7efc-448d-9128-dba9d0da1c38",
   "metadata": {},
   "outputs": [
    {
     "name": "stdin",
     "output_type": "stream",
     "text": [
      " ········\n"
     ]
    }
   ],
   "source": [
    "# psycopg2\n",
    "password = getpass()\n",
    "cn = psycopg2.connect(host = \"127.0.0.1\", port = \"5432\", database = \"NBA_Analysis\", user = \"postgres\", password = password)\n",
    "cur = cn.cursor()\n",
    "cur.execute(\"Select * FROM nba_data\")\n",
    "query_results1 = cur.fetchall()\n",
    "\n",
    "cur.execute(\"Select * FROM players\")\n",
    "query_results2 = cur.fetchall()\n"
   ]
  },
  {
   "cell_type": "code",
   "execution_count": 13,
   "id": "5c334d9b-b032-4433-b6ba-447471b4b469",
   "metadata": {},
   "outputs": [],
   "source": [
    "cur.execute(\"Select * FROM nba_data LIMIT 0\")\n",
    "colnames1 = [desc[0] for desc in cur.description]\n",
    "cur.execute(\"Select * FROM players LIMIT 0\")\n",
    "colnames2 = [desc[0] for desc in cur.description]"
   ]
  },
  {
   "cell_type": "code",
   "execution_count": 17,
   "id": "f7fbf052-d8d0-4fb1-a6f4-caaf28204c3e",
   "metadata": {},
   "outputs": [
    {
     "data": {
      "text/plain": [
       "(2625, 32)"
      ]
     },
     "execution_count": 17,
     "metadata": {},
     "output_type": "execute_result"
    }
   ],
   "source": [
    "df1 = pd.DataFrame(query_results1)\n",
    "df1.columns = colnames1\n",
    "df1.head()\n",
    "\n",
    "\n",
    "df2 = pd.DataFrame(query_results2)\n",
    "df2.columns = colnames2\n",
    "df1.shape"
   ]
  },
  {
   "cell_type": "code",
   "execution_count": 24,
   "id": "4eec58cb-7898-47af-977f-1e23ef5ad7b5",
   "metadata": {},
   "outputs": [],
   "source": [
    "path = \"extracted_data/\"\n",
    "df1.to_csv(os.path.join(path, r'summary_stats.csv'))\n",
    "path = \"extracted_data\"\n",
    "df2.to_csv(os.path.join(path, r'players.csv'))"
   ]
  },
  {
   "cell_type": "code",
   "execution_count": null,
   "id": "fdf7d6ba-a047-4295-bb99-e8771160301b",
   "metadata": {},
   "outputs": [],
   "source": []
  }
 ],
 "metadata": {
  "kernelspec": {
   "display_name": "PythonData",
   "language": "python",
   "name": "pythondata"
  },
  "language_info": {
   "codemirror_mode": {
    "name": "ipython",
    "version": 3
   },
   "file_extension": ".py",
   "mimetype": "text/x-python",
   "name": "python",
   "nbconvert_exporter": "python",
   "pygments_lexer": "ipython3",
   "version": "3.8.8"
  }
 },
 "nbformat": 4,
 "nbformat_minor": 5
}
