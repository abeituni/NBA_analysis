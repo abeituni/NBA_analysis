{
 "cells": [
  {
   "cell_type": "code",
   "execution_count": null,
   "id": "25758369-add7-4ca6-a17b-66367188a8bb",
   "metadata": {},
   "outputs": [],
   "source": [
    "import pandas as pd\n",
    "from sklearn.preprocessing import StandardScaler\n",
    "from sklearn.decomposition import PCA\n",
    "from sklearn.cluster import KMeans\n",
    "import hvplot.pandas\n",
    "import plotly.express as px"
   ]
  },
  {
   "cell_type": "code",
   "execution_count": null,
   "id": "7adb94a2-d747-4129-9dec-ccc1c5d0d795",
   "metadata": {
    "tags": []
   },
   "outputs": [],
   "source": [
    "# import csv \n",
    "\n",
    "average_data = pd.read_csv(\"advanced_ml/average_player.csv\")\n",
    "average_player_df = average_data.set_index('Unnamed: 0')\n",
    "average_player_df.index.name = None\n",
    "average_player_df.head()"
   ]
  },
  {
   "cell_type": "markdown",
   "id": "9bc5d469-7cc4-4743-9f32-3a7eee425225",
   "metadata": {},
   "source": [
    " class one df has 720 players, looking at the data, these players tend to be average nba players. \n",
    " I am planning to run an elbow curve and add clusters within this DF "
   ]
  },
  {
   "cell_type": "code",
   "execution_count": null,
   "id": "61127b8d-8215-4bc4-b90f-cf53ea8e2075",
   "metadata": {},
   "outputs": [],
   "source": [
    "# create average columns df for the machine learning model\n",
    "\n",
    "average = [average_player_df[\"G\"],average_player_df[\"MP\"], average_player_df[\"PER\"],average_player_df[\"BPM\"],average_player_df[\"VORP\"]]\n",
    "average_df = pd.concat(average, axis=1)\n",
    "average_df.head()"
   ]
  },
  {
   "cell_type": "code",
   "execution_count": null,
   "id": "1c3970ab-dd50-471d-bf25-0e1d58bb0c94",
   "metadata": {},
   "outputs": [],
   "source": [
    "# scale the average df\n",
    "\n",
    "average_scaled = StandardScaler().fit_transform(average_df)\n",
    "print(average_scaled[0:5])"
   ]
  },
  {
   "cell_type": "code",
   "execution_count": null,
   "id": "73422d7f-64f6-4c0d-a8ef-9a2bb54ed5e4",
   "metadata": {},
   "outputs": [],
   "source": [
    "# Initialize PCA model\n",
    "pca = PCA(n_components=3)"
   ]
  },
  {
   "cell_type": "code",
   "execution_count": null,
   "id": "a90683b1-1e77-4164-99f6-d47f794e78d5",
   "metadata": {},
   "outputs": [],
   "source": [
    "# Get 3 principal components for the data.\n",
    "average_pca = pca.fit_transform(average_scaled)"
   ]
  },
  {
   "cell_type": "code",
   "execution_count": null,
   "id": "ce6bf9c4-5d4c-44ed-ac77-a2faa9bebdd4",
   "metadata": {},
   "outputs": [],
   "source": [
    "# create PCA df\n",
    "df_average_pca = pd.DataFrame(\n",
    "    data = average_pca, columns = [\"principal component 1\", \"principal component 2\", \"principal component 3\"], index=average_player_df.index)\n",
    "df_average_pca.head()"
   ]
  },
  {
   "cell_type": "code",
   "execution_count": null,
   "id": "dbbdd4ae-439d-42d7-8417-2f87c26b8f94",
   "metadata": {},
   "outputs": [],
   "source": [
    "# Find the best value for K\n",
    "inertia = []\n",
    "k = list(range(1, 11))\n",
    "\n",
    "# Calculate the inertia for the range of K values\n",
    "for i in k:\n",
    "    km = KMeans(n_clusters=i, random_state=0)\n",
    "    km.fit(df_average_pca)\n",
    "    inertia.append(km.inertia_)\n",
    "\n",
    "# Create the elbow curve\n",
    "elbow_data = {\"k\": k, \"inertia\": inertia}\n",
    "df_elbow = pd.DataFrame(elbow_data)\n",
    "df_elbow.hvplot.line(x=\"k\", y=\"inertia\", xticks=k, title=\"Elbow Curve\")"
   ]
  },
  {
   "cell_type": "code",
   "execution_count": null,
   "id": "4a8b0529-3601-46cf-9cbd-1b49e2e17945",
   "metadata": {},
   "outputs": [],
   "source": [
    "# make \"Player\" and \"Year\" its own df\n",
    "\n",
    "player = [average_player_df[\"Player\"],average_player_df[\"Season\"]]\n",
    "player_name = pd.concat(player, axis=1)\n",
    "player_name.head()"
   ]
  },
  {
   "cell_type": "code",
   "execution_count": null,
   "id": "9f3f3d61-10f0-4263-a6a7-2259851c25d6",
   "metadata": {},
   "outputs": [],
   "source": [
    "# Elbow curve is 2 so we will have two clusters\n",
    "\n",
    "# Initialize the K-means model\n",
    "model = KMeans(n_clusters=2, random_state=0)\n",
    "\n",
    "# Fit the model\n",
    "model.fit(df_average_pca)\n",
    "\n",
    "# Predict clusters\n",
    "predictions = model.predict(df_average_pca)\n",
    "\n",
    "# Add the predicted class columns\n",
    "player_name[\"class\"] = model.labels_\n",
    "player_name.head()"
   ]
  },
  {
   "cell_type": "code",
   "execution_count": null,
   "id": "85def9a5-3387-45ae-9c86-1debaede353e",
   "metadata": {},
   "outputs": [],
   "source": [
    "#sort by class\n",
    "\n",
    "sorted_class = player_name.sort_values([\"class\"])\n",
    "class_one = sorted_class[(sorted_class[\"class\"] == 0)]\n",
    "class_two = sorted_class[(sorted_class[\"class\"] == 1)]\n",
    "class_one.head()"
   ]
  },
  {
   "cell_type": "code",
   "execution_count": null,
   "id": "a57d850e-8c16-446c-9b86-db4877f334d3",
   "metadata": {},
   "outputs": [],
   "source": [
    "# class 1 df\n",
    "\n",
    "df_one = pd.concat([class_one, average_df], axis=1)\n",
    "top_average = pd.DataFrame(index=average_player_df.index)\n",
    "top_average = df_one.dropna()\n",
    "top_average.count()\n",
    "top_average.to_csv('average_advanced_players.csv')"
   ]
  },
  {
   "cell_type": "code",
   "execution_count": null,
   "id": "b9e08e6c-1a81-4da9-962d-afb6676cc22c",
   "metadata": {},
   "outputs": [],
   "source": [
    "# class 2 df\n",
    "\n",
    "df_two = pd.concat([class_two, average_df], axis=1)\n",
    "bottom_average = pd.DataFrame(index=average_player_df.index)\n",
    "bottom_average = df_two.dropna()\n",
    "bottom_average.count()\n",
    "bottom_average.to_csv('slightly_below_advanced_players.csv')"
   ]
  },
  {
   "cell_type": "code",
   "execution_count": null,
   "id": "370d5814-7f6b-482a-9646-1b461e10974b",
   "metadata": {},
   "outputs": [],
   "source": []
  }
 ],
 "metadata": {
  "kernelspec": {
   "display_name": "mlenv",
   "language": "python",
   "name": "mlenv"
  },
  "language_info": {
   "codemirror_mode": {
    "name": "ipython",
    "version": 3
   },
   "file_extension": ".py",
   "mimetype": "text/x-python",
   "name": "python",
   "nbconvert_exporter": "python",
   "pygments_lexer": "ipython3",
   "version": "3.7.11"
  }
 },
 "nbformat": 4,
 "nbformat_minor": 5
}
